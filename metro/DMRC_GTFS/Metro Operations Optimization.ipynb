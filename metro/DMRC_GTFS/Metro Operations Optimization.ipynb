{
 "cells": [
  {
   "cell_type": "code",
   "execution_count": 1,
   "id": "ec541cab",
   "metadata": {},
   "outputs": [],
   "source": [
    "import pandas as pd\n",
    "import numpy as np \n",
    "from matplotlib import pyplot as plt\n",
    "import seaborn as sns\n"
   ]
  },
  {
   "cell_type": "code",
   "execution_count": 4,
   "id": "b82a6e11",
   "metadata": {},
   "outputs": [
    {
     "data": {
      "text/html": [
       "<div>\n",
       "<style scoped>\n",
       "    .dataframe tbody tr th:only-of-type {\n",
       "        vertical-align: middle;\n",
       "    }\n",
       "\n",
       "    .dataframe tbody tr th {\n",
       "        vertical-align: top;\n",
       "    }\n",
       "\n",
       "    .dataframe thead th {\n",
       "        text-align: right;\n",
       "    }\n",
       "</style>\n",
       "<table border=\"1\" class=\"dataframe\">\n",
       "  <thead>\n",
       "    <tr style=\"text-align: right;\">\n",
       "      <th></th>\n",
       "      <th>agency_id</th>\n",
       "      <th>agency_name</th>\n",
       "      <th>agency_url</th>\n",
       "      <th>agency_timezone</th>\n",
       "      <th>agency_lang</th>\n",
       "      <th>agency_phone</th>\n",
       "      <th>agency_fare_url</th>\n",
       "      <th>agency_email</th>\n",
       "    </tr>\n",
       "  </thead>\n",
       "  <tbody>\n",
       "    <tr>\n",
       "      <th>0</th>\n",
       "      <td>DMRC</td>\n",
       "      <td>Delhi Metro Rail Corporation</td>\n",
       "      <td>http://www.delhimetrorail.com/</td>\n",
       "      <td>Asia/Kolkata</td>\n",
       "      <td>NaN</td>\n",
       "      <td>NaN</td>\n",
       "      <td>NaN</td>\n",
       "      <td>NaN</td>\n",
       "    </tr>\n",
       "  </tbody>\n",
       "</table>\n",
       "</div>"
      ],
      "text/plain": [
       "  agency_id                   agency_name                      agency_url  \\\n",
       "0      DMRC  Delhi Metro Rail Corporation  http://www.delhimetrorail.com/   \n",
       "\n",
       "  agency_timezone  agency_lang  agency_phone  agency_fare_url  agency_email  \n",
       "0    Asia/Kolkata          NaN           NaN              NaN           NaN  "
      ]
     },
     "execution_count": 4,
     "metadata": {},
     "output_type": "execute_result"
    }
   ],
   "source": [
    "agency =pd.read_csv('agency.txt')\n",
    "agency.head()"
   ]
  },
  {
   "cell_type": "code",
   "execution_count": 5,
   "id": "34a5c184",
   "metadata": {},
   "outputs": [
    {
     "data": {
      "text/html": [
       "<div>\n",
       "<style scoped>\n",
       "    .dataframe tbody tr th:only-of-type {\n",
       "        vertical-align: middle;\n",
       "    }\n",
       "\n",
       "    .dataframe tbody tr th {\n",
       "        vertical-align: top;\n",
       "    }\n",
       "\n",
       "    .dataframe thead th {\n",
       "        text-align: right;\n",
       "    }\n",
       "</style>\n",
       "<table border=\"1\" class=\"dataframe\">\n",
       "  <thead>\n",
       "    <tr style=\"text-align: right;\">\n",
       "      <th></th>\n",
       "      <th>service_id</th>\n",
       "      <th>monday</th>\n",
       "      <th>tuesday</th>\n",
       "      <th>wednesday</th>\n",
       "      <th>thursday</th>\n",
       "      <th>friday</th>\n",
       "      <th>saturday</th>\n",
       "      <th>sunday</th>\n",
       "      <th>start_date</th>\n",
       "      <th>end_date</th>\n",
       "    </tr>\n",
       "  </thead>\n",
       "  <tbody>\n",
       "    <tr>\n",
       "      <th>0</th>\n",
       "      <td>weekday</td>\n",
       "      <td>1</td>\n",
       "      <td>1</td>\n",
       "      <td>1</td>\n",
       "      <td>1</td>\n",
       "      <td>1</td>\n",
       "      <td>0</td>\n",
       "      <td>0</td>\n",
       "      <td>20190101</td>\n",
       "      <td>20251231</td>\n",
       "    </tr>\n",
       "    <tr>\n",
       "      <th>1</th>\n",
       "      <td>saturday</td>\n",
       "      <td>0</td>\n",
       "      <td>0</td>\n",
       "      <td>0</td>\n",
       "      <td>0</td>\n",
       "      <td>0</td>\n",
       "      <td>1</td>\n",
       "      <td>0</td>\n",
       "      <td>20190101</td>\n",
       "      <td>20251231</td>\n",
       "    </tr>\n",
       "    <tr>\n",
       "      <th>2</th>\n",
       "      <td>sunday</td>\n",
       "      <td>0</td>\n",
       "      <td>0</td>\n",
       "      <td>0</td>\n",
       "      <td>0</td>\n",
       "      <td>0</td>\n",
       "      <td>0</td>\n",
       "      <td>1</td>\n",
       "      <td>20190101</td>\n",
       "      <td>20251231</td>\n",
       "    </tr>\n",
       "  </tbody>\n",
       "</table>\n",
       "</div>"
      ],
      "text/plain": [
       "  service_id  monday  tuesday  wednesday  thursday  friday  saturday  sunday  \\\n",
       "0    weekday       1        1          1         1       1         0       0   \n",
       "1   saturday       0        0          0         0       0         1       0   \n",
       "2     sunday       0        0          0         0       0         0       1   \n",
       "\n",
       "   start_date  end_date  \n",
       "0    20190101  20251231  \n",
       "1    20190101  20251231  \n",
       "2    20190101  20251231  "
      ]
     },
     "execution_count": 5,
     "metadata": {},
     "output_type": "execute_result"
    }
   ],
   "source": [
    "calendar=pd.read_csv('calendar.txt')\n",
    "calendar.head()"
   ]
  },
  {
   "cell_type": "code",
   "execution_count": 6,
   "id": "4b084409",
   "metadata": {},
   "outputs": [
    {
     "data": {
      "text/html": [
       "<div>\n",
       "<style scoped>\n",
       "    .dataframe tbody tr th:only-of-type {\n",
       "        vertical-align: middle;\n",
       "    }\n",
       "\n",
       "    .dataframe tbody tr th {\n",
       "        vertical-align: top;\n",
       "    }\n",
       "\n",
       "    .dataframe thead th {\n",
       "        text-align: right;\n",
       "    }\n",
       "</style>\n",
       "<table border=\"1\" class=\"dataframe\">\n",
       "  <thead>\n",
       "    <tr style=\"text-align: right;\">\n",
       "      <th></th>\n",
       "      <th>route_id</th>\n",
       "      <th>agency_id</th>\n",
       "      <th>route_short_name</th>\n",
       "      <th>route_long_name</th>\n",
       "      <th>route_desc</th>\n",
       "      <th>route_type</th>\n",
       "      <th>route_url</th>\n",
       "      <th>route_color</th>\n",
       "      <th>route_text_color</th>\n",
       "      <th>route_sort_order</th>\n",
       "      <th>continuous_pickup</th>\n",
       "      <th>continuous_drop_off</th>\n",
       "    </tr>\n",
       "  </thead>\n",
       "  <tbody>\n",
       "    <tr>\n",
       "      <th>0</th>\n",
       "      <td>33</td>\n",
       "      <td>NaN</td>\n",
       "      <td>R_SP_R</td>\n",
       "      <td>RAPID_Phase 3 (Rapid Metro) to Sector 55-56 (R...</td>\n",
       "      <td>NaN</td>\n",
       "      <td>1</td>\n",
       "      <td>NaN</td>\n",
       "      <td>NaN</td>\n",
       "      <td>NaN</td>\n",
       "      <td>NaN</td>\n",
       "      <td>NaN</td>\n",
       "      <td>NaN</td>\n",
       "    </tr>\n",
       "    <tr>\n",
       "      <th>1</th>\n",
       "      <td>31</td>\n",
       "      <td>NaN</td>\n",
       "      <td>G_DD_R</td>\n",
       "      <td>GRAY_Dhansa Bus Stand to Dwarka</td>\n",
       "      <td>NaN</td>\n",
       "      <td>1</td>\n",
       "      <td>NaN</td>\n",
       "      <td>NaN</td>\n",
       "      <td>NaN</td>\n",
       "      <td>NaN</td>\n",
       "      <td>NaN</td>\n",
       "      <td>NaN</td>\n",
       "    </tr>\n",
       "    <tr>\n",
       "      <th>2</th>\n",
       "      <td>29</td>\n",
       "      <td>NaN</td>\n",
       "      <td>P_MS_R</td>\n",
       "      <td>PINK_Shiv Vihar to Majlis Park</td>\n",
       "      <td>NaN</td>\n",
       "      <td>1</td>\n",
       "      <td>NaN</td>\n",
       "      <td>NaN</td>\n",
       "      <td>NaN</td>\n",
       "      <td>NaN</td>\n",
       "      <td>NaN</td>\n",
       "      <td>NaN</td>\n",
       "    </tr>\n",
       "    <tr>\n",
       "      <th>3</th>\n",
       "      <td>12</td>\n",
       "      <td>NaN</td>\n",
       "      <td>M_JB</td>\n",
       "      <td>MAGENTA_Janak Puri West to Botanical Garden</td>\n",
       "      <td>NaN</td>\n",
       "      <td>1</td>\n",
       "      <td>NaN</td>\n",
       "      <td>NaN</td>\n",
       "      <td>NaN</td>\n",
       "      <td>NaN</td>\n",
       "      <td>NaN</td>\n",
       "      <td>NaN</td>\n",
       "    </tr>\n",
       "    <tr>\n",
       "      <th>4</th>\n",
       "      <td>11</td>\n",
       "      <td>NaN</td>\n",
       "      <td>P_MS</td>\n",
       "      <td>PINK_Majlis Park to Shiv Vihar</td>\n",
       "      <td>NaN</td>\n",
       "      <td>1</td>\n",
       "      <td>NaN</td>\n",
       "      <td>NaN</td>\n",
       "      <td>NaN</td>\n",
       "      <td>NaN</td>\n",
       "      <td>NaN</td>\n",
       "      <td>NaN</td>\n",
       "    </tr>\n",
       "  </tbody>\n",
       "</table>\n",
       "</div>"
      ],
      "text/plain": [
       "   route_id  agency_id route_short_name  \\\n",
       "0        33        NaN           R_SP_R   \n",
       "1        31        NaN           G_DD_R   \n",
       "2        29        NaN           P_MS_R   \n",
       "3        12        NaN             M_JB   \n",
       "4        11        NaN             P_MS   \n",
       "\n",
       "                                     route_long_name  route_desc  route_type  \\\n",
       "0  RAPID_Phase 3 (Rapid Metro) to Sector 55-56 (R...         NaN           1   \n",
       "1                    GRAY_Dhansa Bus Stand to Dwarka         NaN           1   \n",
       "2                     PINK_Shiv Vihar to Majlis Park         NaN           1   \n",
       "3        MAGENTA_Janak Puri West to Botanical Garden         NaN           1   \n",
       "4                     PINK_Majlis Park to Shiv Vihar         NaN           1   \n",
       "\n",
       "   route_url  route_color  route_text_color  route_sort_order  \\\n",
       "0        NaN          NaN               NaN               NaN   \n",
       "1        NaN          NaN               NaN               NaN   \n",
       "2        NaN          NaN               NaN               NaN   \n",
       "3        NaN          NaN               NaN               NaN   \n",
       "4        NaN          NaN               NaN               NaN   \n",
       "\n",
       "   continuous_pickup  continuous_drop_off  \n",
       "0                NaN                  NaN  \n",
       "1                NaN                  NaN  \n",
       "2                NaN                  NaN  \n",
       "3                NaN                  NaN  \n",
       "4                NaN                  NaN  "
      ]
     },
     "execution_count": 6,
     "metadata": {},
     "output_type": "execute_result"
    }
   ],
   "source": [
    "route=pd.read_csv('routes.txt')\n",
    "route.head()"
   ]
  },
  {
   "cell_type": "code",
   "execution_count": 7,
   "id": "440de4a6",
   "metadata": {},
   "outputs": [
    {
     "data": {
      "text/html": [
       "<div>\n",
       "<style scoped>\n",
       "    .dataframe tbody tr th:only-of-type {\n",
       "        vertical-align: middle;\n",
       "    }\n",
       "\n",
       "    .dataframe tbody tr th {\n",
       "        vertical-align: top;\n",
       "    }\n",
       "\n",
       "    .dataframe thead th {\n",
       "        text-align: right;\n",
       "    }\n",
       "</style>\n",
       "<table border=\"1\" class=\"dataframe\">\n",
       "  <thead>\n",
       "    <tr style=\"text-align: right;\">\n",
       "      <th></th>\n",
       "      <th>trip_id</th>\n",
       "      <th>arrival_time</th>\n",
       "      <th>departure_time</th>\n",
       "      <th>stop_id</th>\n",
       "      <th>stop_sequence</th>\n",
       "      <th>stop_headsign</th>\n",
       "      <th>pickup_type</th>\n",
       "      <th>drop_off_type</th>\n",
       "      <th>shape_dist_traveled</th>\n",
       "      <th>timepoint</th>\n",
       "      <th>continuous_pickup</th>\n",
       "      <th>continuous_drop_off</th>\n",
       "    </tr>\n",
       "  </thead>\n",
       "  <tbody>\n",
       "    <tr>\n",
       "      <th>0</th>\n",
       "      <td>0</td>\n",
       "      <td>05:28:08</td>\n",
       "      <td>05:28:28</td>\n",
       "      <td>21</td>\n",
       "      <td>0</td>\n",
       "      <td>NaN</td>\n",
       "      <td>0</td>\n",
       "      <td>0</td>\n",
       "      <td>0.000</td>\n",
       "      <td>1</td>\n",
       "      <td>NaN</td>\n",
       "      <td>NaN</td>\n",
       "    </tr>\n",
       "    <tr>\n",
       "      <th>1</th>\n",
       "      <td>0</td>\n",
       "      <td>05:30:58</td>\n",
       "      <td>05:31:18</td>\n",
       "      <td>20</td>\n",
       "      <td>1</td>\n",
       "      <td>NaN</td>\n",
       "      <td>0</td>\n",
       "      <td>0</td>\n",
       "      <td>1202.405</td>\n",
       "      <td>1</td>\n",
       "      <td>NaN</td>\n",
       "      <td>NaN</td>\n",
       "    </tr>\n",
       "    <tr>\n",
       "      <th>2</th>\n",
       "      <td>0</td>\n",
       "      <td>05:33:28</td>\n",
       "      <td>05:33:48</td>\n",
       "      <td>19</td>\n",
       "      <td>2</td>\n",
       "      <td>NaN</td>\n",
       "      <td>0</td>\n",
       "      <td>0</td>\n",
       "      <td>2480.750</td>\n",
       "      <td>1</td>\n",
       "      <td>NaN</td>\n",
       "      <td>NaN</td>\n",
       "    </tr>\n",
       "    <tr>\n",
       "      <th>3</th>\n",
       "      <td>0</td>\n",
       "      <td>05:35:33</td>\n",
       "      <td>05:35:53</td>\n",
       "      <td>18</td>\n",
       "      <td>3</td>\n",
       "      <td>NaN</td>\n",
       "      <td>0</td>\n",
       "      <td>0</td>\n",
       "      <td>3314.936</td>\n",
       "      <td>1</td>\n",
       "      <td>NaN</td>\n",
       "      <td>NaN</td>\n",
       "    </tr>\n",
       "    <tr>\n",
       "      <th>4</th>\n",
       "      <td>0</td>\n",
       "      <td>05:37:53</td>\n",
       "      <td>05:38:13</td>\n",
       "      <td>17</td>\n",
       "      <td>4</td>\n",
       "      <td>NaN</td>\n",
       "      <td>0</td>\n",
       "      <td>0</td>\n",
       "      <td>4300.216</td>\n",
       "      <td>1</td>\n",
       "      <td>NaN</td>\n",
       "      <td>NaN</td>\n",
       "    </tr>\n",
       "  </tbody>\n",
       "</table>\n",
       "</div>"
      ],
      "text/plain": [
       "   trip_id arrival_time departure_time  stop_id  stop_sequence  stop_headsign  \\\n",
       "0        0     05:28:08       05:28:28       21              0            NaN   \n",
       "1        0     05:30:58       05:31:18       20              1            NaN   \n",
       "2        0     05:33:28       05:33:48       19              2            NaN   \n",
       "3        0     05:35:33       05:35:53       18              3            NaN   \n",
       "4        0     05:37:53       05:38:13       17              4            NaN   \n",
       "\n",
       "   pickup_type  drop_off_type  shape_dist_traveled  timepoint  \\\n",
       "0            0              0                0.000          1   \n",
       "1            0              0             1202.405          1   \n",
       "2            0              0             2480.750          1   \n",
       "3            0              0             3314.936          1   \n",
       "4            0              0             4300.216          1   \n",
       "\n",
       "   continuous_pickup  continuous_drop_off  \n",
       "0                NaN                  NaN  \n",
       "1                NaN                  NaN  \n",
       "2                NaN                  NaN  \n",
       "3                NaN                  NaN  \n",
       "4                NaN                  NaN  "
      ]
     },
     "execution_count": 7,
     "metadata": {},
     "output_type": "execute_result"
    }
   ],
   "source": [
    "stop_time=pd.read_csv('stop_times.txt')\n",
    "stop_time.head()"
   ]
  },
  {
   "cell_type": "code",
   "execution_count": 8,
   "id": "f225f5fa",
   "metadata": {},
   "outputs": [
    {
     "data": {
      "text/html": [
       "<div>\n",
       "<style scoped>\n",
       "    .dataframe tbody tr th:only-of-type {\n",
       "        vertical-align: middle;\n",
       "    }\n",
       "\n",
       "    .dataframe tbody tr th {\n",
       "        vertical-align: top;\n",
       "    }\n",
       "\n",
       "    .dataframe thead th {\n",
       "        text-align: right;\n",
       "    }\n",
       "</style>\n",
       "<table border=\"1\" class=\"dataframe\">\n",
       "  <thead>\n",
       "    <tr style=\"text-align: right;\">\n",
       "      <th></th>\n",
       "      <th>shape_id</th>\n",
       "      <th>shape_pt_lat</th>\n",
       "      <th>shape_pt_lon</th>\n",
       "      <th>shape_pt_sequence</th>\n",
       "      <th>shape_dist_traveled</th>\n",
       "    </tr>\n",
       "  </thead>\n",
       "  <tbody>\n",
       "    <tr>\n",
       "      <th>0</th>\n",
       "      <td>shp_1_2</td>\n",
       "      <td>28.615887</td>\n",
       "      <td>77.022461</td>\n",
       "      <td>1</td>\n",
       "      <td>0.000</td>\n",
       "    </tr>\n",
       "    <tr>\n",
       "      <th>1</th>\n",
       "      <td>shp_1_2</td>\n",
       "      <td>28.616341</td>\n",
       "      <td>77.022499</td>\n",
       "      <td>2</td>\n",
       "      <td>50.510</td>\n",
       "    </tr>\n",
       "    <tr>\n",
       "      <th>2</th>\n",
       "      <td>shp_1_2</td>\n",
       "      <td>28.617985</td>\n",
       "      <td>77.022453</td>\n",
       "      <td>3</td>\n",
       "      <td>233.586</td>\n",
       "    </tr>\n",
       "    <tr>\n",
       "      <th>3</th>\n",
       "      <td>shp_1_2</td>\n",
       "      <td>28.618252</td>\n",
       "      <td>77.022453</td>\n",
       "      <td>4</td>\n",
       "      <td>263.487</td>\n",
       "    </tr>\n",
       "    <tr>\n",
       "      <th>4</th>\n",
       "      <td>shp_1_2</td>\n",
       "      <td>28.618425</td>\n",
       "      <td>77.022438</td>\n",
       "      <td>5</td>\n",
       "      <td>282.857</td>\n",
       "    </tr>\n",
       "  </tbody>\n",
       "</table>\n",
       "</div>"
      ],
      "text/plain": [
       "  shape_id  shape_pt_lat  shape_pt_lon  shape_pt_sequence  shape_dist_traveled\n",
       "0  shp_1_2     28.615887     77.022461                  1                0.000\n",
       "1  shp_1_2     28.616341     77.022499                  2               50.510\n",
       "2  shp_1_2     28.617985     77.022453                  3              233.586\n",
       "3  shp_1_2     28.618252     77.022453                  4              263.487\n",
       "4  shp_1_2     28.618425     77.022438                  5              282.857"
      ]
     },
     "execution_count": 8,
     "metadata": {},
     "output_type": "execute_result"
    }
   ],
   "source": [
    "shapes=pd.read_csv('shapes.txt')\n",
    "shapes.head()"
   ]
  },
  {
   "cell_type": "code",
   "execution_count": 9,
   "id": "e8f51544",
   "metadata": {},
   "outputs": [
    {
     "data": {
      "text/html": [
       "<div>\n",
       "<style scoped>\n",
       "    .dataframe tbody tr th:only-of-type {\n",
       "        vertical-align: middle;\n",
       "    }\n",
       "\n",
       "    .dataframe tbody tr th {\n",
       "        vertical-align: top;\n",
       "    }\n",
       "\n",
       "    .dataframe thead th {\n",
       "        text-align: right;\n",
       "    }\n",
       "</style>\n",
       "<table border=\"1\" class=\"dataframe\">\n",
       "  <thead>\n",
       "    <tr style=\"text-align: right;\">\n",
       "      <th></th>\n",
       "      <th>stop_id</th>\n",
       "      <th>stop_code</th>\n",
       "      <th>stop_name</th>\n",
       "      <th>stop_desc</th>\n",
       "      <th>stop_lat</th>\n",
       "      <th>stop_lon</th>\n",
       "    </tr>\n",
       "  </thead>\n",
       "  <tbody>\n",
       "    <tr>\n",
       "      <th>0</th>\n",
       "      <td>1</td>\n",
       "      <td>NaN</td>\n",
       "      <td>Dilshad Garden</td>\n",
       "      <td>NaN</td>\n",
       "      <td>28.675991</td>\n",
       "      <td>77.321495</td>\n",
       "    </tr>\n",
       "    <tr>\n",
       "      <th>1</th>\n",
       "      <td>2</td>\n",
       "      <td>NaN</td>\n",
       "      <td>Jhilmil</td>\n",
       "      <td>NaN</td>\n",
       "      <td>28.675648</td>\n",
       "      <td>77.312393</td>\n",
       "    </tr>\n",
       "    <tr>\n",
       "      <th>2</th>\n",
       "      <td>3</td>\n",
       "      <td>NaN</td>\n",
       "      <td>Mansrover park</td>\n",
       "      <td>NaN</td>\n",
       "      <td>28.675352</td>\n",
       "      <td>77.301178</td>\n",
       "    </tr>\n",
       "    <tr>\n",
       "      <th>3</th>\n",
       "      <td>4</td>\n",
       "      <td>NaN</td>\n",
       "      <td>Shahdara</td>\n",
       "      <td>NaN</td>\n",
       "      <td>28.673531</td>\n",
       "      <td>77.287270</td>\n",
       "    </tr>\n",
       "    <tr>\n",
       "      <th>4</th>\n",
       "      <td>5</td>\n",
       "      <td>NaN</td>\n",
       "      <td>Welcome</td>\n",
       "      <td>NaN</td>\n",
       "      <td>28.671986</td>\n",
       "      <td>77.277931</td>\n",
       "    </tr>\n",
       "  </tbody>\n",
       "</table>\n",
       "</div>"
      ],
      "text/plain": [
       "   stop_id  stop_code       stop_name  stop_desc   stop_lat   stop_lon\n",
       "0        1        NaN  Dilshad Garden        NaN  28.675991  77.321495\n",
       "1        2        NaN         Jhilmil        NaN  28.675648  77.312393\n",
       "2        3        NaN  Mansrover park        NaN  28.675352  77.301178\n",
       "3        4        NaN        Shahdara        NaN  28.673531  77.287270\n",
       "4        5        NaN         Welcome        NaN  28.671986  77.277931"
      ]
     },
     "execution_count": 9,
     "metadata": {},
     "output_type": "execute_result"
    }
   ],
   "source": [
    "stops=pd.read_csv('stops.txt')\n",
    "stops.head()"
   ]
  },
  {
   "cell_type": "code",
   "execution_count": 10,
   "id": "bb99d86e",
   "metadata": {},
   "outputs": [
    {
     "data": {
      "text/html": [
       "<div>\n",
       "<style scoped>\n",
       "    .dataframe tbody tr th:only-of-type {\n",
       "        vertical-align: middle;\n",
       "    }\n",
       "\n",
       "    .dataframe tbody tr th {\n",
       "        vertical-align: top;\n",
       "    }\n",
       "\n",
       "    .dataframe thead th {\n",
       "        text-align: right;\n",
       "    }\n",
       "</style>\n",
       "<table border=\"1\" class=\"dataframe\">\n",
       "  <thead>\n",
       "    <tr style=\"text-align: right;\">\n",
       "      <th></th>\n",
       "      <th>route_id</th>\n",
       "      <th>service_id</th>\n",
       "      <th>trip_id</th>\n",
       "      <th>trip_headsign</th>\n",
       "      <th>trip_short_name</th>\n",
       "      <th>direction_id</th>\n",
       "      <th>block_id</th>\n",
       "      <th>shape_id</th>\n",
       "      <th>wheelchair_accessible</th>\n",
       "      <th>bikes_allowed</th>\n",
       "    </tr>\n",
       "  </thead>\n",
       "  <tbody>\n",
       "    <tr>\n",
       "      <th>0</th>\n",
       "      <td>0</td>\n",
       "      <td>weekday</td>\n",
       "      <td>0</td>\n",
       "      <td>NaN</td>\n",
       "      <td>NaN</td>\n",
       "      <td>NaN</td>\n",
       "      <td>NaN</td>\n",
       "      <td>shp_1_30</td>\n",
       "      <td>0</td>\n",
       "      <td>0</td>\n",
       "    </tr>\n",
       "    <tr>\n",
       "      <th>1</th>\n",
       "      <td>0</td>\n",
       "      <td>weekday</td>\n",
       "      <td>1</td>\n",
       "      <td>NaN</td>\n",
       "      <td>NaN</td>\n",
       "      <td>NaN</td>\n",
       "      <td>NaN</td>\n",
       "      <td>shp_1_30</td>\n",
       "      <td>0</td>\n",
       "      <td>0</td>\n",
       "    </tr>\n",
       "    <tr>\n",
       "      <th>2</th>\n",
       "      <td>0</td>\n",
       "      <td>weekday</td>\n",
       "      <td>10</td>\n",
       "      <td>NaN</td>\n",
       "      <td>NaN</td>\n",
       "      <td>NaN</td>\n",
       "      <td>NaN</td>\n",
       "      <td>shp_1_30</td>\n",
       "      <td>0</td>\n",
       "      <td>0</td>\n",
       "    </tr>\n",
       "    <tr>\n",
       "      <th>3</th>\n",
       "      <td>0</td>\n",
       "      <td>weekday</td>\n",
       "      <td>100</td>\n",
       "      <td>NaN</td>\n",
       "      <td>NaN</td>\n",
       "      <td>NaN</td>\n",
       "      <td>NaN</td>\n",
       "      <td>shp_1_30</td>\n",
       "      <td>0</td>\n",
       "      <td>0</td>\n",
       "    </tr>\n",
       "    <tr>\n",
       "      <th>4</th>\n",
       "      <td>2</td>\n",
       "      <td>weekday</td>\n",
       "      <td>1000</td>\n",
       "      <td>NaN</td>\n",
       "      <td>NaN</td>\n",
       "      <td>NaN</td>\n",
       "      <td>NaN</td>\n",
       "      <td>shp_1_13</td>\n",
       "      <td>0</td>\n",
       "      <td>0</td>\n",
       "    </tr>\n",
       "  </tbody>\n",
       "</table>\n",
       "</div>"
      ],
      "text/plain": [
       "   route_id service_id  trip_id  trip_headsign  trip_short_name  direction_id  \\\n",
       "0         0    weekday        0            NaN              NaN           NaN   \n",
       "1         0    weekday        1            NaN              NaN           NaN   \n",
       "2         0    weekday       10            NaN              NaN           NaN   \n",
       "3         0    weekday      100            NaN              NaN           NaN   \n",
       "4         2    weekday     1000            NaN              NaN           NaN   \n",
       "\n",
       "   block_id  shape_id  wheelchair_accessible  bikes_allowed  \n",
       "0       NaN  shp_1_30                      0              0  \n",
       "1       NaN  shp_1_30                      0              0  \n",
       "2       NaN  shp_1_30                      0              0  \n",
       "3       NaN  shp_1_30                      0              0  \n",
       "4       NaN  shp_1_13                      0              0  "
      ]
     },
     "execution_count": 10,
     "metadata": {},
     "output_type": "execute_result"
    }
   ],
   "source": [
    "trips=pd.read_csv('trips.txt')\n",
    "trips.head()"
   ]
  },
  {
   "cell_type": "code",
   "execution_count": 11,
   "id": "c911da4f",
   "metadata": {},
   "outputs": [
    {
     "data": {
      "text/plain": [
       "{'agency':   agency_id                   agency_name                      agency_url  \\\n",
       " 0      DMRC  Delhi Metro Rail Corporation  http://www.delhimetrorail.com/   \n",
       " \n",
       "   agency_timezone  agency_lang  agency_phone  agency_fare_url  agency_email  \n",
       " 0    Asia/Kolkata          NaN           NaN              NaN           NaN  ,\n",
       " 'calendar':   service_id  monday  tuesday  wednesday  thursday  friday  saturday  sunday  \\\n",
       " 0    weekday       1        1          1         1       1         0       0   \n",
       " 1   saturday       0        0          0         0       0         1       0   \n",
       " 2     sunday       0        0          0         0       0         0       1   \n",
       " \n",
       "    start_date  end_date  \n",
       " 0    20190101  20251231  \n",
       " 1    20190101  20251231  \n",
       " 2    20190101  20251231  ,\n",
       " 'route':    route_id  agency_id route_short_name  \\\n",
       " 0        33        NaN           R_SP_R   \n",
       " 1        31        NaN           G_DD_R   \n",
       " 2        29        NaN           P_MS_R   \n",
       " 3        12        NaN             M_JB   \n",
       " 4        11        NaN             P_MS   \n",
       " \n",
       "                                      route_long_name  route_desc  route_type  \\\n",
       " 0  RAPID_Phase 3 (Rapid Metro) to Sector 55-56 (R...         NaN           1   \n",
       " 1                    GRAY_Dhansa Bus Stand to Dwarka         NaN           1   \n",
       " 2                     PINK_Shiv Vihar to Majlis Park         NaN           1   \n",
       " 3        MAGENTA_Janak Puri West to Botanical Garden         NaN           1   \n",
       " 4                     PINK_Majlis Park to Shiv Vihar         NaN           1   \n",
       " \n",
       "    route_url  route_color  route_text_color  route_sort_order  \\\n",
       " 0        NaN          NaN               NaN               NaN   \n",
       " 1        NaN          NaN               NaN               NaN   \n",
       " 2        NaN          NaN               NaN               NaN   \n",
       " 3        NaN          NaN               NaN               NaN   \n",
       " 4        NaN          NaN               NaN               NaN   \n",
       " \n",
       "    continuous_pickup  continuous_drop_off  \n",
       " 0                NaN                  NaN  \n",
       " 1                NaN                  NaN  \n",
       " 2                NaN                  NaN  \n",
       " 3                NaN                  NaN  \n",
       " 4                NaN                  NaN  ,\n",
       " 'stop_time':    trip_id arrival_time departure_time  stop_id  stop_sequence  stop_headsign  \\\n",
       " 0        0     05:28:08       05:28:28       21              0            NaN   \n",
       " 1        0     05:30:58       05:31:18       20              1            NaN   \n",
       " 2        0     05:33:28       05:33:48       19              2            NaN   \n",
       " 3        0     05:35:33       05:35:53       18              3            NaN   \n",
       " 4        0     05:37:53       05:38:13       17              4            NaN   \n",
       " \n",
       "    pickup_type  drop_off_type  shape_dist_traveled  timepoint  \\\n",
       " 0            0              0                0.000          1   \n",
       " 1            0              0             1202.405          1   \n",
       " 2            0              0             2480.750          1   \n",
       " 3            0              0             3314.936          1   \n",
       " 4            0              0             4300.216          1   \n",
       " \n",
       "    continuous_pickup  continuous_drop_off  \n",
       " 0                NaN                  NaN  \n",
       " 1                NaN                  NaN  \n",
       " 2                NaN                  NaN  \n",
       " 3                NaN                  NaN  \n",
       " 4                NaN                  NaN  ,\n",
       " 'shapes':   shape_id  shape_pt_lat  shape_pt_lon  shape_pt_sequence  shape_dist_traveled\n",
       " 0  shp_1_2     28.615887     77.022461                  1                0.000\n",
       " 1  shp_1_2     28.616341     77.022499                  2               50.510\n",
       " 2  shp_1_2     28.617985     77.022453                  3              233.586\n",
       " 3  shp_1_2     28.618252     77.022453                  4              263.487\n",
       " 4  shp_1_2     28.618425     77.022438                  5              282.857,\n",
       " 'stops':    stop_id  stop_code       stop_name  stop_desc   stop_lat   stop_lon\n",
       " 0        1        NaN  Dilshad Garden        NaN  28.675991  77.321495\n",
       " 1        2        NaN         Jhilmil        NaN  28.675648  77.312393\n",
       " 2        3        NaN  Mansrover park        NaN  28.675352  77.301178\n",
       " 3        4        NaN        Shahdara        NaN  28.673531  77.287270\n",
       " 4        5        NaN         Welcome        NaN  28.671986  77.277931,\n",
       " 'trips':    route_id service_id  trip_id  trip_headsign  trip_short_name  direction_id  \\\n",
       " 0         0    weekday        0            NaN              NaN           NaN   \n",
       " 1         0    weekday        1            NaN              NaN           NaN   \n",
       " 2         0    weekday       10            NaN              NaN           NaN   \n",
       " 3         0    weekday      100            NaN              NaN           NaN   \n",
       " 4         2    weekday     1000            NaN              NaN           NaN   \n",
       " \n",
       "    block_id  shape_id  wheelchair_accessible  bikes_allowed  \n",
       " 0       NaN  shp_1_30                      0              0  \n",
       " 1       NaN  shp_1_30                      0              0  \n",
       " 2       NaN  shp_1_30                      0              0  \n",
       " 3       NaN  shp_1_30                      0              0  \n",
       " 4       NaN  shp_1_13                      0              0  }"
      ]
     },
     "execution_count": 11,
     "metadata": {},
     "output_type": "execute_result"
    }
   ],
   "source": [
    "data_overview = {\n",
    "    'agency': agency.head(),\n",
    "    'calendar': calendar.head(),\n",
    "    'route': route.head(),\n",
    "    'stop_time': stop_time.head(),\n",
    "    'shapes': shapes.head(),\n",
    "    'stops': stops.head(),\n",
    "    'trips': trips.head()\n",
    "}\n",
    "\n",
    "data_overview"
   ]
  },
  {
   "cell_type": "markdown",
   "id": "054b13aa",
   "metadata": {},
   "source": [
    "# Net work analysis"
   ]
  },
  {
   "cell_type": "code",
   "execution_count": 12,
   "id": "6df51b5f",
   "metadata": {},
   "outputs": [
    {
     "data": {
      "image/png": "[encoded data removed]",
      "text/plain": [
       "<Figure size 720x576 with 1 Axes>"
      ]
     },
     "metadata": {
      "needs_background": "light"
     },
     "output_type": "display_data"
    }
   ],
   "source": [
    "plt.figure(figsize=(10, 8))\n",
    "sns.scatterplot(x='shape_pt_lon', y='shape_pt_lat', hue='shape_id', data=shapes, palette='viridis', s=10, legend=None)\n",
    "plt.title('Geographical Path of Delhi Metro Routes')\n",
    "plt.xlabel('Longitude')\n",
    "plt.ylabel('Latitude')\n",
    "plt.grid(True)\n",
    "plt.show()"
   ]
  },
  {
   "cell_type": "markdown",
   "id": "b30802c6",
   "metadata": {},
   "source": [
    "# I will examine the frequency and schedulling of trip across different days of the week by analyzing the celender and trip data"
   ]
  },
  {
   "cell_type": "markdown",
   "id": "6848e1ff",
   "metadata": {},
   "source": [
    "#Merge trip with calendar to include the day of operation information"
   ]
  },
  {
   "cell_type": "code",
   "execution_count": 13,
   "id": "180e0e11",
   "metadata": {},
   "outputs": [
    {
     "data": {
      "text/html": [
       "<div>\n",
       "<style scoped>\n",
       "    .dataframe tbody tr th:only-of-type {\n",
       "        vertical-align: middle;\n",
       "    }\n",
       "\n",
       "    .dataframe tbody tr th {\n",
       "        vertical-align: top;\n",
       "    }\n",
       "\n",
       "    .dataframe thead th {\n",
       "        text-align: right;\n",
       "    }\n",
       "</style>\n",
       "<table border=\"1\" class=\"dataframe\">\n",
       "  <thead>\n",
       "    <tr style=\"text-align: right;\">\n",
       "      <th></th>\n",
       "      <th>route_id</th>\n",
       "      <th>service_id</th>\n",
       "      <th>trip_id</th>\n",
       "      <th>trip_headsign</th>\n",
       "      <th>trip_short_name</th>\n",
       "      <th>direction_id</th>\n",
       "      <th>block_id</th>\n",
       "      <th>shape_id</th>\n",
       "      <th>wheelchair_accessible</th>\n",
       "      <th>bikes_allowed</th>\n",
       "      <th>monday</th>\n",
       "      <th>tuesday</th>\n",
       "      <th>wednesday</th>\n",
       "      <th>thursday</th>\n",
       "      <th>friday</th>\n",
       "      <th>saturday</th>\n",
       "      <th>sunday</th>\n",
       "      <th>start_date</th>\n",
       "      <th>end_date</th>\n",
       "    </tr>\n",
       "  </thead>\n",
       "  <tbody>\n",
       "    <tr>\n",
       "      <th>0</th>\n",
       "      <td>0</td>\n",
       "      <td>weekday</td>\n",
       "      <td>0</td>\n",
       "      <td>NaN</td>\n",
       "      <td>NaN</td>\n",
       "      <td>NaN</td>\n",
       "      <td>NaN</td>\n",
       "      <td>shp_1_30</td>\n",
       "      <td>0</td>\n",
       "      <td>0</td>\n",
       "      <td>1</td>\n",
       "      <td>1</td>\n",
       "      <td>1</td>\n",
       "      <td>1</td>\n",
       "      <td>1</td>\n",
       "      <td>0</td>\n",
       "      <td>0</td>\n",
       "      <td>20190101</td>\n",
       "      <td>20251231</td>\n",
       "    </tr>\n",
       "    <tr>\n",
       "      <th>1</th>\n",
       "      <td>0</td>\n",
       "      <td>weekday</td>\n",
       "      <td>1</td>\n",
       "      <td>NaN</td>\n",
       "      <td>NaN</td>\n",
       "      <td>NaN</td>\n",
       "      <td>NaN</td>\n",
       "      <td>shp_1_30</td>\n",
       "      <td>0</td>\n",
       "      <td>0</td>\n",
       "      <td>1</td>\n",
       "      <td>1</td>\n",
       "      <td>1</td>\n",
       "      <td>1</td>\n",
       "      <td>1</td>\n",
       "      <td>0</td>\n",
       "      <td>0</td>\n",
       "      <td>20190101</td>\n",
       "      <td>20251231</td>\n",
       "    </tr>\n",
       "    <tr>\n",
       "      <th>2</th>\n",
       "      <td>0</td>\n",
       "      <td>weekday</td>\n",
       "      <td>10</td>\n",
       "      <td>NaN</td>\n",
       "      <td>NaN</td>\n",
       "      <td>NaN</td>\n",
       "      <td>NaN</td>\n",
       "      <td>shp_1_30</td>\n",
       "      <td>0</td>\n",
       "      <td>0</td>\n",
       "      <td>1</td>\n",
       "      <td>1</td>\n",
       "      <td>1</td>\n",
       "      <td>1</td>\n",
       "      <td>1</td>\n",
       "      <td>0</td>\n",
       "      <td>0</td>\n",
       "      <td>20190101</td>\n",
       "      <td>20251231</td>\n",
       "    </tr>\n",
       "    <tr>\n",
       "      <th>3</th>\n",
       "      <td>0</td>\n",
       "      <td>weekday</td>\n",
       "      <td>100</td>\n",
       "      <td>NaN</td>\n",
       "      <td>NaN</td>\n",
       "      <td>NaN</td>\n",
       "      <td>NaN</td>\n",
       "      <td>shp_1_30</td>\n",
       "      <td>0</td>\n",
       "      <td>0</td>\n",
       "      <td>1</td>\n",
       "      <td>1</td>\n",
       "      <td>1</td>\n",
       "      <td>1</td>\n",
       "      <td>1</td>\n",
       "      <td>0</td>\n",
       "      <td>0</td>\n",
       "      <td>20190101</td>\n",
       "      <td>20251231</td>\n",
       "    </tr>\n",
       "    <tr>\n",
       "      <th>4</th>\n",
       "      <td>2</td>\n",
       "      <td>weekday</td>\n",
       "      <td>1000</td>\n",
       "      <td>NaN</td>\n",
       "      <td>NaN</td>\n",
       "      <td>NaN</td>\n",
       "      <td>NaN</td>\n",
       "      <td>shp_1_13</td>\n",
       "      <td>0</td>\n",
       "      <td>0</td>\n",
       "      <td>1</td>\n",
       "      <td>1</td>\n",
       "      <td>1</td>\n",
       "      <td>1</td>\n",
       "      <td>1</td>\n",
       "      <td>0</td>\n",
       "      <td>0</td>\n",
       "      <td>20190101</td>\n",
       "      <td>20251231</td>\n",
       "    </tr>\n",
       "  </tbody>\n",
       "</table>\n",
       "</div>"
      ],
      "text/plain": [
       "   route_id service_id  trip_id  trip_headsign  trip_short_name  direction_id  \\\n",
       "0         0    weekday        0            NaN              NaN           NaN   \n",
       "1         0    weekday        1            NaN              NaN           NaN   \n",
       "2         0    weekday       10            NaN              NaN           NaN   \n",
       "3         0    weekday      100            NaN              NaN           NaN   \n",
       "4         2    weekday     1000            NaN              NaN           NaN   \n",
       "\n",
       "   block_id  shape_id  wheelchair_accessible  bikes_allowed  monday  tuesday  \\\n",
       "0       NaN  shp_1_30                      0              0       1        1   \n",
       "1       NaN  shp_1_30                      0              0       1        1   \n",
       "2       NaN  shp_1_30                      0              0       1        1   \n",
       "3       NaN  shp_1_30                      0              0       1        1   \n",
       "4       NaN  shp_1_13                      0              0       1        1   \n",
       "\n",
       "   wednesday  thursday  friday  saturday  sunday  start_date  end_date  \n",
       "0          1         1       1         0       0    20190101  20251231  \n",
       "1          1         1       1         0       0    20190101  20251231  \n",
       "2          1         1       1         0       0    20190101  20251231  \n",
       "3          1         1       1         0       0    20190101  20251231  \n",
       "4          1         1       1         0       0    20190101  20251231  "
      ]
     },
     "execution_count": 13,
     "metadata": {},
     "output_type": "execute_result"
    }
   ],
   "source": [
    "trips_calender=pd.merge(trips,calendar, on='service_id', how='left')\n",
    "trips_calender.head(5)\n"
   ]
  },
  {
   "cell_type": "markdown",
   "id": "8b321d18",
   "metadata": {},
   "source": [
    "#count the number of trips per day of the week"
   ]
  },
  {
   "cell_type": "code",
   "execution_count": 14,
   "id": "bfd5e085",
   "metadata": {},
   "outputs": [
    {
     "data": {
      "text/plain": [
       "monday       5379\n",
       "tuesday      5379\n",
       "wednesday    5379\n",
       "thursday     5379\n",
       "friday       5379\n",
       "saturday       59\n",
       "sunday          0\n",
       "dtype: int64"
      ]
     },
     "execution_count": 14,
     "metadata": {},
     "output_type": "execute_result"
    }
   ],
   "source": [
    "trip_counts=trips_calender[['monday','tuesday','wednesday','thursday','friday','saturday','sunday']].sum()\n",
    "trip_counts"
   ]
  },
  {
   "cell_type": "code",
   "execution_count": 15,
   "id": "50ddfbdb",
   "metadata": {},
   "outputs": [
    {
     "data": {
      "image/png": "[encoded data removed]",
      "text/plain": [
       "<Figure size 720x432 with 1 Axes>"
      ]
     },
     "metadata": {
      "needs_background": "light"
     },
     "output_type": "display_data"
    }
   ],
   "source": [
    "#plotting\n",
    "plt.figure(figsize=(10,6))\n",
    "trip_counts.plot(kind='bar',color='skyblue')\n",
    "plt.title('Number of Trips per Day of the Week')\n",
    "plt.xlabel('Day of the Week ')\n",
    "plt.ylabel('Number of Trips')\n",
    "plt.xticks(rotation=45)\n",
    "plt.grid(True)\n",
    "plt.show()"
   ]
  },
  {
   "cell_type": "markdown",
   "id": "c204256c",
   "metadata": {},
   "source": [
    "To further analyze the connectivity and effectiveness of the route strategy i will analyze the distrubution and connectivity of stops"
   ]
  },
  {
   "cell_type": "code",
   "execution_count": 16,
   "id": "14c21970",
   "metadata": {},
   "outputs": [
    {
     "data": {
      "image/png": "[encoded data removed]",
      "text/plain": [
       "<Figure size 720x720 with 1 Axes>"
      ]
     },
     "metadata": {
      "needs_background": "light"
     },
     "output_type": "display_data"
    }
   ],
   "source": [
    "#plotting the locations\n",
    "plt.figure(figsize=(10,10))\n",
    "sns.scatterplot(x='stop_lon',y='stop_lat',data=stops,color='red',s=50,marker='o')\n",
    "plt.title('Geographical Distribution of Delhi Metro Stops')\n",
    "plt.xlabel('Longitude')\n",
    "plt.ylabel('Latitude')\n",
    "plt.grid(True)\n",
    "plt.show()"
   ]
  },
  {
   "cell_type": "markdown",
   "id": "354155d0",
   "metadata": {},
   "source": [
    "# let's analysis how many routes pass through each stop which cah highlight key transfer points and central hubs within the Delhi Metro network"
   ]
  },
  {
   "cell_type": "code",
   "execution_count": 17,
   "id": "0f8921a8",
   "metadata": {},
   "outputs": [],
   "source": [
    "# merge stops with stop_times to link each stop with trips and the merge within trips to get route information"
   ]
  },
  {
   "cell_type": "code",
   "execution_count": 18,
   "id": "69a8c900",
   "metadata": {},
   "outputs": [],
   "source": [
    "stops_with_routes=pd.merge(pd.merge(stop_time,trips,on='trip_id'),route,on='route_id')"
   ]
  },
  {
   "cell_type": "code",
   "execution_count": 19,
   "id": "128b9b91",
   "metadata": {},
   "outputs": [],
   "source": [
    "#count how many unique routes pass through each stop"
   ]
  },
  {
   "cell_type": "code",
   "execution_count": 20,
   "id": "5222d504",
   "metadata": {},
   "outputs": [],
   "source": [
    "stop_route_counts=stops_with_routes.groupby('stop_id')['route_id'].nunique().reset_index()\n",
    "stop_route_counts=stop_route_counts.rename(columns={'route_id':'number_of_routes'})\n"
   ]
  },
  {
   "cell_type": "code",
   "execution_count": 21,
   "id": "bc25c8ad",
   "metadata": {},
   "outputs": [],
   "source": [
    "#merge this with stops to get the names and location for plotting"
   ]
  },
  {
   "cell_type": "code",
   "execution_count": 22,
   "id": "bffa26ec",
   "metadata": {},
   "outputs": [],
   "source": [
    "stop_route_counts = pd.merge(stop_route_counts, stops, on='stop_id')\n"
   ]
  },
  {
   "cell_type": "code",
   "execution_count": 23,
   "id": "c8d56777",
   "metadata": {},
   "outputs": [
    {
     "data": {
      "image/png": "[encoded data removed]",
      "text/plain": [
       "<Figure size 720x720 with 1 Axes>"
      ]
     },
     "metadata": {
      "needs_background": "light"
     },
     "output_type": "display_data"
    }
   ],
   "source": [
    "# plot the number of routes per stop\n",
    "plt.figure(figsize=(10, 10))\n",
    "sns.scatterplot(x='stop_lon', y='stop_lat', size='number_of_routes', hue='number_of_routes',\n",
    "                sizes=(50, 500), alpha=0.5, palette='coolwarm', data=stop_route_counts)\n",
    "plt.title('Number of Routes per Metro Stop in Delhi')\n",
    "plt.xlabel('Longitude')\n",
    "plt.ylabel('Latitude')\n",
    "plt.legend(title='Number of Routes')\n",
    "plt.grid(True)\n",
    "plt.show()"
   ]
  },
  {
   "cell_type": "markdown",
   "id": "4a2a9302",
   "metadata": {},
   "source": [
    "''The scatter plot above represents the number of routes that pass through each Delhi Metro stop. Stops are visualized in different colours and sizes based on the number of routes they connect, providing insights into the complexity of the network at various locations. Key observations are:\n",
    "\n",
    "Hubs and Transfer Points: Larger circles (in warmer colours) indicate stops where multiple routes intersect. These stops serve as major transfer points within the network, facilitating easier cross-city travel for passengers.\n",
    "Distribution: Stops with fewer routes, shown in cooler colours and smaller sizes, tend to be more peripheral or on less busy lines. The central areas and more populated zones have stops with greater connectivity.''"
   ]
  },
  {
   "cell_type": "markdown",
   "id": "fb1622e5",
   "metadata": {},
   "source": [
    "'''Next, let’s analyze the service frequency by examining the timing intervals between trips during different parts of the day. It will help us understand peak and off-peak operational strategies, which are crucial for managing commuter flow efficiently. Let’s calculate and visualize these intervals:'''"
   ]
  },
  {
   "cell_type": "markdown",
   "id": "9595f6c4",
   "metadata": {},
   "source": [
    "## converting stop_times 'arrival_time' from string to datetime.time for easier manipulation"
   ]
  },
  {
   "cell_type": "code",
   "execution_count": 31,
   "id": "bae073f3",
   "metadata": {},
   "outputs": [],
   "source": [
    "import datetime as dt\n",
    "\n",
    "# function to convert time string to datetime.time\n",
    "def convert_to_time(time_str):\n",
    "    try:\n",
    "        return dt.datetime.strptime(time_str, '%H:%M:%S').time()\n",
    "    except ValueError:\n",
    "        # Handle cases where the hour might be greater than 23 (e.g., 24:00:00 or 25:00:00)\n",
    "        hour, minute, second = map(int, time_str.split(':'))\n",
    "        return dt.time(hour % 24, minute, second)\n",
    "\n",
    "stop_time['arrival_time_dt'] = stop_time['arrival_time'].apply(convert_to_time)\n"
   ]
  },
  {
   "cell_type": "code",
   "execution_count": 34,
   "id": "e5f5be8c",
   "metadata": {},
   "outputs": [],
   "source": [
    "# calculate the difference in arrival times for subsequent trips at each stop\n",
    "stop_time_sorted = stop_time.sort_values(by=['stop_id', 'arrival_time_dt'])\n",
    "stop_time_sorted['next_arrival_time'] = stop_time_sorted.groupby('stop_id')['arrival_time_dt'].shift(-1)\n"
   ]
  },
  {
   "cell_type": "code",
   "execution_count": 36,
   "id": "cbe5ca77",
   "metadata": {},
   "outputs": [],
   "source": [
    "# function to calculate the difference in minutes between two times\n",
    "def time_difference(time1, time2):\n",
    "    if pd.isna(time1) or pd.isna(time2):\n",
    "        return None\n",
    "    full_date_time1 = dt.datetime.combine(dt.date.today(), time1)\n",
    "    full_date_time2 = dt.datetime.combine(dt.date.today(), time2)\n",
    "    return (full_date_time2 - full_date_time1).seconds / 60\n",
    "\n",
    "stop_time_sorted['interval_minutes'] = stop_time_sorted.apply(lambda row: time_difference(row['arrival_time_dt'], row['next_arrival_time']), axis=1)\n",
    "\n",
    "# drop NaN values from intervals (last trip of the day)\n",
    "stop_time_intervals = stop_time_sorted.dropna(subset=['interval_minutes'])"
   ]
  },
  {
   "cell_type": "code",
   "execution_count": 38,
   "id": "de084181",
   "metadata": {},
   "outputs": [
    {
     "name": "stderr",
     "output_type": "stream",
     "text": [
      "C:\\Users\\Pavan\\AppData\\Local\\Temp/ipykernel_17632/679400613.py:10: SettingWithCopyWarning: \n",
      "A value is trying to be set on a copy of a slice from a DataFrame.\n",
      "Try using .loc[row_indexer,col_indexer] = value instead\n",
      "\n",
      "See the caveats in the documentation: https://pandas.pydata.org/pandas-docs/stable/user_guide/indexing.html#returning-a-view-versus-a-copy\n",
      "  stop_time_intervals['part_of_day'] = stop_time_intervals['arrival_time_dt'].apply(part_of_day)\n"
     ]
    },
    {
     "data": {
      "image/png": "[encoded data removed]",
      "text/plain": [
       "<Figure size 576x432 with 1 Axes>"
      ]
     },
     "metadata": {
      "needs_background": "light"
     },
     "output_type": "display_data"
    }
   ],
   "source": [
    "# average intervals by time of day (morning, afternoon, evening)\n",
    "def part_of_day(time):\n",
    "    if time < dt.time(12, 0):\n",
    "        return 'Morning'\n",
    "    elif time < dt.time(17, 0):\n",
    "        return 'Afternoon'\n",
    "    else:\n",
    "        return 'Evening'\n",
    "\n",
    "stop_time_intervals['part_of_day'] = stop_time_intervals['arrival_time_dt'].apply(part_of_day)\n",
    "average_intervals = stop_time_intervals.groupby('part_of_day')['interval_minutes'].mean().reset_index()\n",
    "\n",
    "plt.figure(figsize=(8, 6))\n",
    "sns.barplot(x='part_of_day', y='interval_minutes', data=average_intervals, order=['Morning', 'Afternoon', 'Evening'], palette='mako')\n",
    "plt.title('Average Interval Between Trips by Part of Day')\n",
    "plt.xlabel('Part of Day')\n",
    "plt.ylabel('Average Interval (minutes)')\n",
    "plt.grid(True)\n",
    "plt.show()"
   ]
  },
  {
   "cell_type": "markdown",
   "id": "b4199628",
   "metadata": {},
   "source": [
    "The bar chart above displays the average interval between trips on the Delhi Metro during different parts of the day: morning, afternoon, and evening. This data provides insight into the service frequency and how it is adjusted based on the expected demand throughout the day. Key findings are:"
   ]
  },
  {
   "cell_type": "markdown",
   "id": "d3cb4b0b",
   "metadata": {},
   "source": [
    "Morning: Shorter intervals between trips are observed in the morning hours, which likely corresponds to the morning rush hour when commuters are heading to work or school.\n",
    "Afternoon: The intervals increase slightly during the afternoon, which may indicate a reduction in demand after the morning peak.\n",
    "Evening: In the evening, intervals decrease again, likely to accommodate the evening rush hour as people return home."
   ]
  },
  {
   "cell_type": "markdown",
   "id": "d75f1ae2",
   "metadata": {},
   "source": [
    "Now, let’s calculate the number of trips and the available capacity per time interval. It will give us a basic understanding of how service levels vary throughout the day. We’ll classify the intervals as:"
   ]
  },
  {
   "cell_type": "markdown",
   "id": "7eb68e40",
   "metadata": {},
   "source": [
    "# Early Morning: Before 6 AM\n",
    "#Morning Peak: 6 AM to 10 AM\n",
    "#Midday: 10 AM to 4 PM\n",
    "#Evening Peak: 4 PM to 8 PM\n",
    "#Late Evening: After 8 PM"
   ]
  },
  {
   "cell_type": "code",
   "execution_count": 39,
   "id": "f4ba3898",
   "metadata": {},
   "outputs": [
    {
     "name": "stderr",
     "output_type": "stream",
     "text": [
      "C:\\Users\\Pavan\\anaconda3\\lib\\site-packages\\seaborn\\categorical.py:253: FutureWarning: The default of observed=False is deprecated and will be changed to True in a future version of pandas. Pass observed=False to retain current behavior or observed=True to adopt the future default and silence this warning.\n",
      "  grouped_vals = vals.groupby(grouper)\n"
     ]
    },
    {
     "data": {
      "image/png": "[encoded data removed]",
      "text/plain": [
       "<Figure size 720x432 with 1 Axes>"
      ]
     },
     "metadata": {
      "needs_background": "light"
     },
     "output_type": "display_data"
    }
   ],
   "source": [
    "# define time intervals for classification\n",
    "def classify_time_interval(time):\n",
    "    if time < dt.time(6, 0):\n",
    "        return 'Early Morning'\n",
    "    elif time < dt.time(10, 0):\n",
    "        return 'Morning Peak'\n",
    "    elif time < dt.time(16, 0):\n",
    "        return 'Midday'\n",
    "    elif time < dt.time(20, 0):\n",
    "        return 'Evening Peak'\n",
    "    else:\n",
    "        return 'Late Evening'\n",
    "\n",
    "# apply time interval classification\n",
    "stop_time['time_interval'] = stop_time['arrival_time_dt'].apply(classify_time_interval)\n",
    "\n",
    "# count the number of trips per time interval\n",
    "trips_per_interval = stop_time.groupby('time_interval')['trip_id'].nunique().reset_index()\n",
    "trips_per_interval = trips_per_interval.rename(columns={'trip_id': 'number_of_trips'})\n",
    "\n",
    "# sorting the dataframe\n",
    "ordered_intervals = ['Early Morning', 'Morning Peak', 'Midday', 'Evening Peak', 'Late Evening']\n",
    "trips_per_interval['time_interval'] = pd.Categorical(trips_per_interval['time_interval'], categories=ordered_intervals, ordered=True)\n",
    "trips_per_interval = trips_per_interval.sort_values('time_interval')\n",
    "\n",
    "# plotting the number of trips per time interval\n",
    "plt.figure(figsize=(10, 6))\n",
    "sns.barplot(x='time_interval', y='number_of_trips', data=trips_per_interval, palette='Set2')\n",
    "plt.title('Number of Trips per Time Interval')\n",
    "plt.xlabel('Time Interval')\n",
    "plt.ylabel('Number of Trips')\n",
    "plt.grid(True)\n",
    "plt.show()"
   ]
  },
  {
   "cell_type": "markdown",
   "id": "f41e162e",
   "metadata": {},
   "source": [
    "Early Morning: There is a relatively low number of trips, indicating less demand or fewer scheduled services during these hours.\n",
    "Morning Peak: There is a significant increase in the number of trips compared to the early morning, likely due to morning commute hours as people travel to work or school.\n",
    "Midday: The number of trips remains high, perhaps sustaining the morning rush or due to other midday travel needs.\n",
    "Evening Peak: This period sees a slight decrease compared to midday but remains one of the busier times, probably reflecting the evening commute.\n",
    "Late Evening: The number of trips drops again, but remains higher than in the early morning, likely catering to people returning home late or involved in evening activities."
   ]
  },
  {
   "cell_type": "code",
   "execution_count": 40,
   "id": "2a6c6b6a",
   "metadata": {},
   "outputs": [
    {
     "data": {
      "image/png": "[encoded data removed]",
      "text/plain": [
       "<Figure size 864x432 with 1 Axes>"
      ]
     },
     "metadata": {
      "needs_background": "light"
     },
     "output_type": "display_data"
    }
   ],
   "source": [
    "# adjusting frequencies based on hypothetical scenario\n",
    "adjusted_trips_per_interval = trips_per_interval.copy()\n",
    "adjustment_factors = {'Morning Peak': 1.20, 'Evening Peak': 1.20, 'Midday': 0.90, 'Early Morning': 1.0, 'Late Evening': 0.90}\n",
    "\n",
    "# apply the adjustments\n",
    "adjusted_trips_per_interval['adjusted_number_of_trips'] = adjusted_trips_per_interval.apply(\n",
    "    lambda row: int(row['number_of_trips'] * adjustment_factors[row['time_interval']]), axis=1)\n",
    "\n",
    "# plotting original vs adjusted number of trips per time interval\n",
    "plt.figure(figsize=(12, 6))\n",
    "bar_width = 0.35\n",
    "r1 = range(len(adjusted_trips_per_interval))\n",
    "r2 = [x + bar_width for x in r1]\n",
    "plt.bar(r1, adjusted_trips_per_interval['number_of_trips'], color='blue', width=bar_width, edgecolor='grey', label='Original')\n",
    "plt.bar(r2, adjusted_trips_per_interval['adjusted_number_of_trips'], color='cyan', width=bar_width, edgecolor='grey', label='Adjusted')\n",
    "\n",
    "plt.xlabel('Time Interval', fontweight='bold')\n",
    "plt.ylabel('Number of Trips', fontweight='bold')\n",
    "plt.xticks([r + bar_width/2 for r in range(len(adjusted_trips_per_interval))], adjusted_trips_per_interval['time_interval'])\n",
    "plt.title('Original vs Adjusted Number of Trips per Time Interval')\n",
    "plt.legend()\n",
    "\n",
    "plt.show()"
   ]
  },
  {
   "cell_type": "markdown",
   "id": "5a5b7262",
   "metadata": {},
   "source": [
    "#The bar chart illustrates the original versus adjusted number of trips per time interval for the Delhi Metro, based on our hypothetical adjustments to better align service levels with inferred demand:"
   ]
  },
  {
   "cell_type": "raw",
   "id": "3b507caf",
   "metadata": {},
   "source": [
    "# conclusion:Metro Operations Optimization refers to the systematic process of enhancing the efficiency, reliability, and effectiveness of Metro services through various data-driven techniques and operational adjustments. Our approach to optimizing metro operations showcases how analyzing existing data can guide decisions in real-time scheduling adjustments, even in the absence of explicit passenger count data."
   ]
  },
  {
   "cell_type": "code",
   "execution_count": null,
   "id": "d809b8a4",
   "metadata": {},
   "outputs": [],
   "source": []
  },
  {
   "cell_type": "code",
   "execution_count": null,
   "id": "15a89260",
   "metadata": {},
   "outputs": [],
   "source": []
  },
  {
   "cell_type": "code",
   "execution_count": null,
   "id": "82898a57",
   "metadata": {},
   "outputs": [],
   "source": []
  },
  {
   "cell_type": "code",
   "execution_count": null,
   "id": "e8cdc76b",
   "metadata": {},
   "outputs": [],
   "source": []
  },
  {
   "cell_type": "code",
   "execution_count": null,
   "id": "461bff3d",
   "metadata": {},
   "outputs": [],
   "source": []
  },
  {
   "cell_type": "code",
   "execution_count": null,
   "id": "b4657140",
   "metadata": {},
   "outputs": [],
   "source": []
  }
 ],
 "metadata": {
  "kernelspec": {
   "display_name": "Python 3 (ipykernel)",
   "language": "python",
   "name": "python3"
  },
  "language_info": {
   "codemirror_mode": {
    "name": "ipython",
    "version": 3
   },
   "file_extension": ".py",
   "mimetype": "text/x-python",
   "name": "python",
   "nbconvert_exporter": "python",
   "pygments_lexer": "ipython3",
   "version": "3.9.7"
  }
 },
 "nbformat": 4,
 "nbformat_minor": 5
}
